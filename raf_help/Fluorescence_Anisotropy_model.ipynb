{
 "cells": [
  {
   "cell_type": "markdown",
   "metadata": {},
   "source": [
    "Fitting the experimental data by the folowing formula:\n",
    "\n",
    "$$y(P) = b + (m - b)\\cdot \\left( \\frac{S+P+Kd - \\sqrt{(S + P + Kd)^{2} - 4 SP}}{2 S} \\right) $$\n",
    "\n",
    "There are some conditions:\n",
    "+ b = Amin > 0;\n",
    "+ m = Amax;\n",
    "+ Amin < Amax <= 0.4\n",
    "+ Kd > 0\n",
    "\n",
    "We need to search for:\n",
    "\n",
    "+ Kd,\n",
    "+ b,\n",
    "+ m,\n",
    "+ Chi^2\n",
    "+ R^2"
   ]
  },
  {
   "cell_type": "code",
   "execution_count": 1,
   "metadata": {},
   "outputs": [],
   "source": [
    "import os\n",
    "import glob\n",
    "import pandas as pd \n",
    "import matplotlib.pyplot as plt\n",
    "from scipy.optimize import curve_fit, leastsq\n",
    "from scipy.stats import chisquare, linregress"
   ]
  },
  {
   "cell_type": "code",
   "execution_count": 2,
   "metadata": {},
   "outputs": [],
   "source": [
    "def y_P(X, Kd):\n",
    "    S, P = X\n",
    "    return b + (m - b)*((S + P + Kd - (((S + P + Kd)**2) - 4*S*P)**0.5)/2*S)"
   ]
  },
  {
   "cell_type": "code",
   "execution_count": 3,
   "metadata": {},
   "outputs": [],
   "source": [
    "files = sorted(glob.glob('data/*.csv'))\n",
    "param_table = pd.DataFrame(columns=[\n",
    "    'file',\n",
    "    'b',\n",
    "    'm',\n",
    "    'Kd',\n",
    "    'Chi^2',\n",
    "    'R^2'\n",
    "])"
   ]
  },
  {
   "cell_type": "code",
   "execution_count": 6,
   "metadata": {},
   "outputs": [
    {
     "name": "stderr",
     "output_type": "stream",
     "text": [
      "/home/andr/.pyenv/versions/3.7.4/lib/python3.7/site-packages/scipy/optimize/minpack.py:808: OptimizeWarning: Covariance of the parameters could not be estimated\n",
      "  category=OptimizeWarning)\n"
     ]
    },
    {
     "data": {
      "image/png": "[encoded data removed]",
      "text/plain": [
       "<Figure size 432x288 with 1 Axes>"
      ]
     },
     "metadata": {
      "needs_background": "light"
     },
     "output_type": "display_data"
    }
   ],
   "source": [
    "for idx, file in enumerate(files):\n",
    "    table = pd.read_csv(file, sep='\\t')\n",
    "    \n",
    "    name_smt = os.path.basename(file)[:-4]\n",
    "    y = table['A, anisotropy']\n",
    "    b = table['A, anisotropy'].min()\n",
    "    m = table['A, anisotropy'].max()\n",
    "    Kd = 1\n",
    "    popt,pcov = curve_fit(y_P,(table.S, table.P),y,p0=[Kd])\n",
    "    Kd_model = popt[0]\n",
    "    y_model = y_P((table.S, table.P),*popt)\n",
    "    plt.clf()\n",
    "    plt.title(name_smt)\n",
    "    plt.ylabel('A, anisotropy')\n",
    "    plt.xlabel('P, nM')\n",
    "    plt.plot(table.P, y_model, label='model')\n",
    "    plt.plot(table.P, table['A, anisotropy'], '+', color='red', label='obs')\n",
    "    plt.grid(True, ls='--', color='gray')\n",
    "    plt.legend()\n",
    "    plt.savefig(f'images/{name_smt}.png', format='png', dpi=700)\n",
    "    \n",
    "    param_table.loc[idx] = [\n",
    "        name_smt,\n",
    "        round(b, 3),\n",
    "        round(m, 3),\n",
    "        round(Kd_model, 2),\n",
    "        '{:.2e}'.format(chisquare(f_obs=y, f_exp=y_model)[0]),\n",
    "        round(linregress(table.P, y_model)[2], 3)\n",
    "    ]"
   ]
  },
  {
   "cell_type": "code",
   "execution_count": 7,
   "metadata": {},
   "outputs": [
    {
     "data": {
      "text/html": [
       "<div>\n",
       "<style scoped>\n",
       "    .dataframe tbody tr th:only-of-type {\n",
       "        vertical-align: middle;\n",
       "    }\n",
       "\n",
       "    .dataframe tbody tr th {\n",
       "        vertical-align: top;\n",
       "    }\n",
       "\n",
       "    .dataframe thead th {\n",
       "        text-align: right;\n",
       "    }\n",
       "</style>\n",
       "<table border=\"1\" class=\"dataframe\">\n",
       "  <thead>\n",
       "    <tr style=\"text-align: right;\">\n",
       "      <th></th>\n",
       "      <th>file</th>\n",
       "      <th>b</th>\n",
       "      <th>m</th>\n",
       "      <th>Kd</th>\n",
       "      <th>Chi^2</th>\n",
       "      <th>R^2</th>\n",
       "    </tr>\n",
       "  </thead>\n",
       "  <tbody>\n",
       "    <tr>\n",
       "      <th>0</th>\n",
       "      <td>A1_WT_gap</td>\n",
       "      <td>0.044</td>\n",
       "      <td>0.172</td>\n",
       "      <td>1.18268e+07</td>\n",
       "      <td>1.19e+00</td>\n",
       "      <td>1.000</td>\n",
       "    </tr>\n",
       "    <tr>\n",
       "      <th>1</th>\n",
       "      <td>A2_V43I_gap</td>\n",
       "      <td>0.044</td>\n",
       "      <td>0.172</td>\n",
       "      <td>1.18268e+07</td>\n",
       "      <td>1.19e+00</td>\n",
       "      <td>1.000</td>\n",
       "    </tr>\n",
       "    <tr>\n",
       "      <th>2</th>\n",
       "      <td>A3_WT_fork</td>\n",
       "      <td>0.044</td>\n",
       "      <td>0.156</td>\n",
       "      <td>1.32619e+07</td>\n",
       "      <td>1.77e-01</td>\n",
       "      <td>1.000</td>\n",
       "    </tr>\n",
       "    <tr>\n",
       "      <th>3</th>\n",
       "      <td>A4_V43I_fork</td>\n",
       "      <td>0.046</td>\n",
       "      <td>0.173</td>\n",
       "      <td>1.21254e+07</td>\n",
       "      <td>2.72e-01</td>\n",
       "      <td>1.000</td>\n",
       "    </tr>\n",
       "    <tr>\n",
       "      <th>4</th>\n",
       "      <td>B1_WT_gap</td>\n",
       "      <td>0.051</td>\n",
       "      <td>0.103</td>\n",
       "      <td>6.32636e+06</td>\n",
       "      <td>1.90e-02</td>\n",
       "      <td>0.993</td>\n",
       "    </tr>\n",
       "    <tr>\n",
       "      <th>5</th>\n",
       "      <td>B2_WTcat_gap</td>\n",
       "      <td>0.069</td>\n",
       "      <td>0.164</td>\n",
       "      <td>6.27371e+06</td>\n",
       "      <td>2.21e-02</td>\n",
       "      <td>0.993</td>\n",
       "    </tr>\n",
       "    <tr>\n",
       "      <th>6</th>\n",
       "      <td>B3_DAScat_gap</td>\n",
       "      <td>0.068</td>\n",
       "      <td>0.166</td>\n",
       "      <td>7.53939e+06</td>\n",
       "      <td>5.70e-04</td>\n",
       "      <td>0.993</td>\n",
       "    </tr>\n",
       "  </tbody>\n",
       "</table>\n",
       "</div>"
      ],
      "text/plain": [
       "            file      b      m           Kd     Chi^2    R^2\n",
       "0      A1_WT_gap  0.044  0.172  1.18268e+07  1.19e+00  1.000\n",
       "1    A2_V43I_gap  0.044  0.172  1.18268e+07  1.19e+00  1.000\n",
       "2     A3_WT_fork  0.044  0.156  1.32619e+07  1.77e-01  1.000\n",
       "3   A4_V43I_fork  0.046  0.173  1.21254e+07  2.72e-01  1.000\n",
       "4      B1_WT_gap  0.051  0.103  6.32636e+06  1.90e-02  0.993\n",
       "5   B2_WTcat_gap  0.069  0.164  6.27371e+06  2.21e-02  0.993\n",
       "6  B3_DAScat_gap  0.068  0.166  7.53939e+06  5.70e-04  0.993"
      ]
     },
     "execution_count": 7,
     "metadata": {},
     "output_type": "execute_result"
    }
   ],
   "source": [
    "param_table"
   ]
  },
  {
   "cell_type": "code",
   "execution_count": 8,
   "metadata": {},
   "outputs": [],
   "source": [
    "param_table.to_csv('fit_params.csv', sep=',')"
   ]
  },
  {
   "cell_type": "code",
   "execution_count": 9,
   "metadata": {},
   "outputs": [
    {
     "data": {
      "text/plain": [
       "[<matplotlib.lines.Line2D at 0x7f369eb79810>]"
      ]
     },
     "execution_count": 9,
     "metadata": {},
     "output_type": "execute_result"
    },
    {
     "data": {
      "image/png": "[encoded data removed]",
      "text/plain": [
       "<Figure size 432x288 with 1 Axes>"
      ]
     },
     "metadata": {
      "needs_background": "light"
     },
     "output_type": "display_data"
    }
   ],
   "source": [
    "b = 0.068\n",
    "m = 0.166\n",
    "y_model = y_P((table.S, table.P), 7.53939e+06)\n",
    "plt.plot(table.P, y_model)"
   ]
  },
  {
   "cell_type": "code",
   "execution_count": null,
   "metadata": {},
   "outputs": [],
   "source": []
  }
 ],
 "metadata": {
  "kernelspec": {
   "display_name": "Python 3",
   "language": "python",
   "name": "python3"
  },
  "language_info": {
   "codemirror_mode": {
    "name": "ipython",
    "version": 3
   },
   "file_extension": ".py",
   "mimetype": "text/x-python",
   "name": "python",
   "nbconvert_exporter": "python",
   "pygments_lexer": "ipython3",
   "version": "3.7.4"
  }
 },
 "nbformat": 4,
 "nbformat_minor": 4
}
