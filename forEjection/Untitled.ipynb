{
 "cells": [
  {
   "cell_type": "code",
   "execution_count": 1,
   "metadata": {},
   "outputs": [],
   "source": [
    "import sys\n",
    "from PyQt5.QtWidgets import QApplication, QWidget, QToolTip, QPushButton, QMessageBox\n",
    "from PyQt5.QtGui import QFont\n",
    "from PyQt5.QtCore import QCoreApplication"
   ]
  },
  {
   "cell_type": "code",
   "execution_count": 2,
   "metadata": {},
   "outputs": [
    {
     "ename": "SystemExit",
     "evalue": "0",
     "output_type": "error",
     "traceback": [
      "An exception has occurred, use %tb to see the full traceback.\n",
      "\u001b[1;31mSystemExit\u001b[0m\u001b[1;31m:\u001b[0m 0\n"
     ]
    },
    {
     "name": "stderr",
     "output_type": "stream",
     "text": [
      "C:\\ProgramData\\Miniconda3\\lib\\site-packages\\IPython\\core\\interactiveshell.py:2918: UserWarning: To exit: use 'exit', 'quit', or Ctrl-D.\n",
      "  warn(\"To exit: use 'exit', 'quit', or Ctrl-D.\", stacklevel=1)\n"
     ]
    }
   ],
   "source": [
    "class Example(QWidget):\n",
    "    \n",
    "    def __init__(self):\n",
    "        super().__init__()\n",
    "        \n",
    "        self.initUI()\n",
    "        \n",
    "    \n",
    "    def initUI(self):\n",
    "        \n",
    "        QToolTip.setFont(QFont('SansSerif', 10))\n",
    "        \n",
    "        \n",
    "        btn = QPushButton('Кнопка', self)\n",
    "        btn.setToolTip('Это виджет <b>QPushButton</b>')\n",
    "        btn.resize(btn.sizeHint())\n",
    "        btn.move(50, 50)\n",
    "        \n",
    "        qbtn = QPushButton('Выход', self)\n",
    "        qbtn.clicked.connect(QCoreApplication.instance().quit)\n",
    "        qbtn.resize(btn.sizeHint())\n",
    "        qbtn.move(50, 70)\n",
    "        \n",
    "        \n",
    "        self.setGeometry(300, 300, 300, 300)\n",
    "        self.setWindowTitle('Test')\n",
    "        self.show()\n",
    "        \n",
    "        \n",
    "    def closeEvent(self, event):\n",
    "        \n",
    "        reply = QMessageBox.question(self, 'Сообщение',\n",
    "                                    'Вы действительно хотите выйти?',\n",
    "                                    QMessageBox.Yes | QMessageBox.No, \n",
    "                                    QMessageBox.No)\n",
    "        if reply == QMessageBox.Yes:\n",
    "            event.accept()\n",
    "        else:\n",
    "            event.ignore()\n",
    "        \n",
    "app = QApplication(sys.argv)\n",
    "ex = Example()\n",
    "sys.exit(app.exec_())"
   ]
  },
  {
   "cell_type": "code",
   "execution_count": null,
   "metadata": {},
   "outputs": [],
   "source": []
  },
  {
   "cell_type": "code",
   "execution_count": null,
   "metadata": {},
   "outputs": [],
   "source": [
    "# Общее количество бюллетеней\n",
    "TOTAL_BULLETINS = 1500"
   ]
  },
  {
   "cell_type": "code",
   "execution_count": null,
   "metadata": {},
   "outputs": [],
   "source": []
  }
 ],
 "metadata": {
  "kernelspec": {
   "display_name": "Python 3",
   "language": "python",
   "name": "python3"
  },
  "language_info": {
   "codemirror_mode": {
    "name": "ipython",
    "version": 3
   },
   "file_extension": ".py",
   "mimetype": "text/x-python",
   "name": "python",
   "nbconvert_exporter": "python",
   "pygments_lexer": "ipython3",
   "version": "3.6.3"
  }
 },
 "nbformat": 4,
 "nbformat_minor": 2
}
