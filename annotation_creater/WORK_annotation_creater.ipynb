{
 "cells": [
  {
   "cell_type": "code",
   "execution_count": 111,
   "metadata": {},
   "outputs": [],
   "source": [
    "import pandas as pd"
   ]
  },
  {
   "cell_type": "code",
   "execution_count": 112,
   "metadata": {},
   "outputs": [],
   "source": [
    "def split_blast(elem):\n",
    "    if elem == 'hp' or elem == '-':\n",
    "        return elem, elem\n",
    "    else:\n",
    "        elems = elem.split('$')\n",
    "        names = []\n",
    "        e_values = []\n",
    "        for item in elems:\n",
    "            to_names, to_e_values = item.split(';')\n",
    "            names.append(to_names)\n",
    "            e_values.append(to_e_values)\n",
    "\n",
    "        return '\\n'.join(names), '\\n'.join(e_values)\n",
    "\n",
    "\n",
    "def split_hhpred(elem):\n",
    "    if len(elem) == 0:\n",
    "        return '-', '-'\n",
    "    else:\n",
    "        elems = elem.split('$')\n",
    "        return '\\n'.join(elems)"
   ]
  },
  {
   "cell_type": "code",
   "execution_count": 113,
   "metadata": {},
   "outputs": [],
   "source": [
    "filename = pyautogui.prompt(\n",
    "    text='Enter the name of a file for analisys:',\n",
    "    title='File for analisys'\n",
    ")\n",
    "firts_table = pd.read_excel(filename, sheet_name='Sheet1')\n",
    "blast_table = pd.read_csv('results_blast_analyzer.csv', sep='\\t', names=[1, 2])\n",
    "hhpred_table = pd.read_csv('results_hhpred_analyzer.csv', sep='\\t', names=[1, 2])\n",
    "hhpred_table = hhpred_table.fillna('') "
   ]
  },
  {
   "cell_type": "code",
   "execution_count": 114,
   "metadata": {},
   "outputs": [],
   "source": [
    "annotation_table = pd.DataFrame(columns=[\n",
    "    'ORF№',\n",
    "    'Start codon',\n",
    "    'Stop codon',\n",
    "    'Strand',\n",
    "    'Blast results, Name',\n",
    "    'Blast results, E-val',\n",
    "    'Conserved domains, Name',\n",
    "    'Conserved domains,E-val',\n",
    "    'Hhpred results, (Prob./E-val)',\n",
    "])"
   ]
  },
  {
   "cell_type": "code",
   "execution_count": 115,
   "metadata": {},
   "outputs": [],
   "source": [
    "for idx, orf in enumerate(firts_table.orf):\n",
    "    blast_names, blast_eval_n = split_blast(blast_table.iloc[idx, 0])\n",
    "    blast_domainsm, blast_eval_d = split_blast(blast_table.iloc[idx, 1])\n",
    "    hhpred_results = split_hhpred(hhpred_table.iloc[idx, 1])\n",
    "    \n",
    "    annotation_table.loc[idx] = [\n",
    "        firts_table.orf[idx],\n",
    "        firts_table.start[idx],\n",
    "        firts_table.stop[idx],\n",
    "        firts_table.strand[idx],\n",
    "        blast_names,\n",
    "        blast_eval_n,\n",
    "        blast_domainsm,\n",
    "        blast_eval_d,\n",
    "        hhpred_results\n",
    "    ]"
   ]
  },
  {
   "cell_type": "code",
   "execution_count": 116,
   "metadata": {},
   "outputs": [],
   "source": [
    "annotation_table.to_excel('annotation_table.xlsx', sheet_name='results', index=False)"
   ]
  },
  {
   "cell_type": "code",
   "execution_count": null,
   "metadata": {},
   "outputs": [],
   "source": []
  }
 ],
 "metadata": {
  "kernelspec": {
   "display_name": "Python 3",
   "language": "python",
   "name": "python3"
  },
  "language_info": {
   "codemirror_mode": {
    "name": "ipython",
    "version": 3
   },
   "file_extension": ".py",
   "mimetype": "text/x-python",
   "name": "python",
   "nbconvert_exporter": "python",
   "pygments_lexer": "ipython3",
   "version": "3.7.4"
  }
 },
 "nbformat": 4,
 "nbformat_minor": 4
}
