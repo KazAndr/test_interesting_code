{
 "cells": [
  {
   "cell_type": "code",
   "execution_count": 25,
   "metadata": {},
   "outputs": [],
   "source": [
    "import numpy as np\n",
    "import pandas as pd\n",
    "import matplotlib.pyplot as plt\n",
    "from pandas.plotting import register_matplotlib_converters\n",
    "\n",
    "from scipy.optimize import curve_fit\n",
    "register_matplotlib_converters()"
   ]
  },
  {
   "cell_type": "markdown",
   "metadata": {},
   "source": [
    "## About data\n",
    "\n",
    "Data are taken from https://ourworldindata.org/coronavirus-source-data"
   ]
  },
  {
   "cell_type": "code",
   "execution_count": 171,
   "metadata": {},
   "outputs": [],
   "source": [
    "'''\n",
    "https://towardsdatascience.com/\n",
    "covid-19-infection-in-italy-mathematical-models-and-predictions-7784b4d7dd8d\n",
    "\n",
    "Logistic function: f(x) = c / (1 + e^(-(x-b)/a))\n",
    "\n",
    "a refers to the infection speed\n",
    "b is the day with the maximum infections occurred\n",
    "c is the total number of recorded infected people at the infection’s end\n",
    "'''\n",
    "\n",
    "def logistic_model(x,a,b,c):\n",
    "    return c/(1+np.exp(-(x-b)/a))\n",
    "\n",
    "def exponential_model(x,a,b,c):\n",
    "    return a*np.exp(b*(x-c))"
   ]
  },
  {
   "cell_type": "code",
   "execution_count": 47,
   "metadata": {},
   "outputs": [],
   "source": [
    "table = pd.read_csv('owid-covid-data.csv', sep=',')"
   ]
  },
  {
   "cell_type": "code",
   "execution_count": 48,
   "metadata": {},
   "outputs": [],
   "source": [
    "table_russia = table[table['location'] == 'Russia'].reset_index(drop=True)\n",
    "table_russia['Time_series'] = pd.to_datetime(\n",
    "    table_russia['date'], format='%Y-%m-%d', errors='ignore')\n",
    "table_russia = table_russia.set_index('Time_series')"
   ]
  },
  {
   "cell_type": "code",
   "execution_count": 49,
   "metadata": {},
   "outputs": [
    {
     "data": {
      "text/html": [
       "<div>\n",
       "<style scoped>\n",
       "    .dataframe tbody tr th:only-of-type {\n",
       "        vertical-align: middle;\n",
       "    }\n",
       "\n",
       "    .dataframe tbody tr th {\n",
       "        vertical-align: top;\n",
       "    }\n",
       "\n",
       "    .dataframe thead th {\n",
       "        text-align: right;\n",
       "    }\n",
       "</style>\n",
       "<table border=\"1\" class=\"dataframe\">\n",
       "  <thead>\n",
       "    <tr style=\"text-align: right;\">\n",
       "      <th></th>\n",
       "      <th>iso_code</th>\n",
       "      <th>location</th>\n",
       "      <th>date</th>\n",
       "      <th>total_cases</th>\n",
       "      <th>new_cases</th>\n",
       "      <th>total_deaths</th>\n",
       "      <th>new_deaths</th>\n",
       "      <th>total_cases_per_million</th>\n",
       "      <th>new_cases_per_million</th>\n",
       "      <th>total_deaths_per_million</th>\n",
       "      <th>...</th>\n",
       "      <th>aged_65_older</th>\n",
       "      <th>aged_70_older</th>\n",
       "      <th>gdp_per_capita</th>\n",
       "      <th>extreme_poverty</th>\n",
       "      <th>cvd_death_rate</th>\n",
       "      <th>diabetes_prevalence</th>\n",
       "      <th>female_smokers</th>\n",
       "      <th>male_smokers</th>\n",
       "      <th>handwashing_facilities</th>\n",
       "      <th>hospital_beds_per_100k</th>\n",
       "    </tr>\n",
       "    <tr>\n",
       "      <th>Time_series</th>\n",
       "      <th></th>\n",
       "      <th></th>\n",
       "      <th></th>\n",
       "      <th></th>\n",
       "      <th></th>\n",
       "      <th></th>\n",
       "      <th></th>\n",
       "      <th></th>\n",
       "      <th></th>\n",
       "      <th></th>\n",
       "      <th></th>\n",
       "      <th></th>\n",
       "      <th></th>\n",
       "      <th></th>\n",
       "      <th></th>\n",
       "      <th></th>\n",
       "      <th></th>\n",
       "      <th></th>\n",
       "      <th></th>\n",
       "      <th></th>\n",
       "      <th></th>\n",
       "    </tr>\n",
       "  </thead>\n",
       "  <tbody>\n",
       "    <tr>\n",
       "      <th>2020-05-24</th>\n",
       "      <td>RUS</td>\n",
       "      <td>Russia</td>\n",
       "      <td>2020-05-24</td>\n",
       "      <td>335882</td>\n",
       "      <td>9434</td>\n",
       "      <td>3388</td>\n",
       "      <td>139</td>\n",
       "      <td>2301.595</td>\n",
       "      <td>64.645</td>\n",
       "      <td>23.216</td>\n",
       "      <td>...</td>\n",
       "      <td>14.178</td>\n",
       "      <td>9.393</td>\n",
       "      <td>24765.954</td>\n",
       "      <td>0.1</td>\n",
       "      <td>431.297</td>\n",
       "      <td>6.18</td>\n",
       "      <td>23.4</td>\n",
       "      <td>58.3</td>\n",
       "      <td>NaN</td>\n",
       "      <td>8.05</td>\n",
       "    </tr>\n",
       "    <tr>\n",
       "      <th>2020-05-25</th>\n",
       "      <td>RUS</td>\n",
       "      <td>Russia</td>\n",
       "      <td>2020-05-25</td>\n",
       "      <td>344481</td>\n",
       "      <td>8599</td>\n",
       "      <td>3541</td>\n",
       "      <td>153</td>\n",
       "      <td>2360.519</td>\n",
       "      <td>58.924</td>\n",
       "      <td>24.264</td>\n",
       "      <td>...</td>\n",
       "      <td>14.178</td>\n",
       "      <td>9.393</td>\n",
       "      <td>24765.954</td>\n",
       "      <td>0.1</td>\n",
       "      <td>431.297</td>\n",
       "      <td>6.18</td>\n",
       "      <td>23.4</td>\n",
       "      <td>58.3</td>\n",
       "      <td>NaN</td>\n",
       "      <td>8.05</td>\n",
       "    </tr>\n",
       "    <tr>\n",
       "      <th>2020-05-26</th>\n",
       "      <td>RUS</td>\n",
       "      <td>Russia</td>\n",
       "      <td>2020-05-26</td>\n",
       "      <td>353427</td>\n",
       "      <td>8946</td>\n",
       "      <td>3633</td>\n",
       "      <td>92</td>\n",
       "      <td>2421.820</td>\n",
       "      <td>61.301</td>\n",
       "      <td>24.895</td>\n",
       "      <td>...</td>\n",
       "      <td>14.178</td>\n",
       "      <td>9.393</td>\n",
       "      <td>24765.954</td>\n",
       "      <td>0.1</td>\n",
       "      <td>431.297</td>\n",
       "      <td>6.18</td>\n",
       "      <td>23.4</td>\n",
       "      <td>58.3</td>\n",
       "      <td>NaN</td>\n",
       "      <td>8.05</td>\n",
       "    </tr>\n",
       "    <tr>\n",
       "      <th>2020-05-27</th>\n",
       "      <td>RUS</td>\n",
       "      <td>Russia</td>\n",
       "      <td>2020-05-27</td>\n",
       "      <td>362342</td>\n",
       "      <td>8915</td>\n",
       "      <td>3807</td>\n",
       "      <td>174</td>\n",
       "      <td>2482.909</td>\n",
       "      <td>61.089</td>\n",
       "      <td>26.087</td>\n",
       "      <td>...</td>\n",
       "      <td>14.178</td>\n",
       "      <td>9.393</td>\n",
       "      <td>24765.954</td>\n",
       "      <td>0.1</td>\n",
       "      <td>431.297</td>\n",
       "      <td>6.18</td>\n",
       "      <td>23.4</td>\n",
       "      <td>58.3</td>\n",
       "      <td>NaN</td>\n",
       "      <td>8.05</td>\n",
       "    </tr>\n",
       "    <tr>\n",
       "      <th>2020-05-28</th>\n",
       "      <td>RUS</td>\n",
       "      <td>Russia</td>\n",
       "      <td>2020-05-28</td>\n",
       "      <td>370680</td>\n",
       "      <td>8338</td>\n",
       "      <td>3968</td>\n",
       "      <td>161</td>\n",
       "      <td>2540.044</td>\n",
       "      <td>57.135</td>\n",
       "      <td>27.190</td>\n",
       "      <td>...</td>\n",
       "      <td>14.178</td>\n",
       "      <td>9.393</td>\n",
       "      <td>24765.954</td>\n",
       "      <td>0.1</td>\n",
       "      <td>431.297</td>\n",
       "      <td>6.18</td>\n",
       "      <td>23.4</td>\n",
       "      <td>58.3</td>\n",
       "      <td>NaN</td>\n",
       "      <td>8.05</td>\n",
       "    </tr>\n",
       "  </tbody>\n",
       "</table>\n",
       "<p>5 rows × 32 columns</p>\n",
       "</div>"
      ],
      "text/plain": [
       "            iso_code location        date  total_cases  new_cases  \\\n",
       "Time_series                                                         \n",
       "2020-05-24       RUS   Russia  2020-05-24       335882       9434   \n",
       "2020-05-25       RUS   Russia  2020-05-25       344481       8599   \n",
       "2020-05-26       RUS   Russia  2020-05-26       353427       8946   \n",
       "2020-05-27       RUS   Russia  2020-05-27       362342       8915   \n",
       "2020-05-28       RUS   Russia  2020-05-28       370680       8338   \n",
       "\n",
       "             total_deaths  new_deaths  total_cases_per_million  \\\n",
       "Time_series                                                      \n",
       "2020-05-24           3388         139                 2301.595   \n",
       "2020-05-25           3541         153                 2360.519   \n",
       "2020-05-26           3633          92                 2421.820   \n",
       "2020-05-27           3807         174                 2482.909   \n",
       "2020-05-28           3968         161                 2540.044   \n",
       "\n",
       "             new_cases_per_million  total_deaths_per_million  ...  \\\n",
       "Time_series                                                   ...   \n",
       "2020-05-24                  64.645                    23.216  ...   \n",
       "2020-05-25                  58.924                    24.264  ...   \n",
       "2020-05-26                  61.301                    24.895  ...   \n",
       "2020-05-27                  61.089                    26.087  ...   \n",
       "2020-05-28                  57.135                    27.190  ...   \n",
       "\n",
       "             aged_65_older  aged_70_older  gdp_per_capita  extreme_poverty  \\\n",
       "Time_series                                                                  \n",
       "2020-05-24          14.178          9.393       24765.954              0.1   \n",
       "2020-05-25          14.178          9.393       24765.954              0.1   \n",
       "2020-05-26          14.178          9.393       24765.954              0.1   \n",
       "2020-05-27          14.178          9.393       24765.954              0.1   \n",
       "2020-05-28          14.178          9.393       24765.954              0.1   \n",
       "\n",
       "             cvd_death_rate  diabetes_prevalence  female_smokers male_smokers  \\\n",
       "Time_series                                                                     \n",
       "2020-05-24          431.297                 6.18            23.4         58.3   \n",
       "2020-05-25          431.297                 6.18            23.4         58.3   \n",
       "2020-05-26          431.297                 6.18            23.4         58.3   \n",
       "2020-05-27          431.297                 6.18            23.4         58.3   \n",
       "2020-05-28          431.297                 6.18            23.4         58.3   \n",
       "\n",
       "             handwashing_facilities  hospital_beds_per_100k  \n",
       "Time_series                                                  \n",
       "2020-05-24                      NaN                    8.05  \n",
       "2020-05-25                      NaN                    8.05  \n",
       "2020-05-26                      NaN                    8.05  \n",
       "2020-05-27                      NaN                    8.05  \n",
       "2020-05-28                      NaN                    8.05  \n",
       "\n",
       "[5 rows x 32 columns]"
      ]
     },
     "execution_count": 49,
     "metadata": {},
     "output_type": "execute_result"
    }
   ],
   "source": [
    "table_russia.tail()"
   ]
  },
  {
   "cell_type": "code",
   "execution_count": 138,
   "metadata": {},
   "outputs": [],
   "source": [
    "cut_data = table_russia[:'2020-05-12']"
   ]
  },
  {
   "cell_type": "code",
   "execution_count": 172,
   "metadata": {},
   "outputs": [],
   "source": [
    "x = np.arange(cut_data.new_cases.size)\n",
    "y = cut_data.new_cases\n",
    "\n",
    "a = 5.24\n",
    "b = 50\n",
    "c = 11000\n",
    "\n",
    "popt,pcov = curve_fit(logistic_model,x,y,p0=[a, b, c], maxfev=10000)\n",
    "current_fit_log = logistic_model(x,*popt)\n",
    "forecast_log = logistic_model(np.arange(table_russia.new_cases.size),*popt)\n",
    "\n",
    "a = 1\n",
    "b = 1\n",
    "c = 1\n",
    "popt,pcov = curve_fit(exponential_model,x,y,p0=[a, b, c], maxfev=10000)\n",
    "current_fit_exp = exponential_model(x,*popt)\n",
    "forecast_exp = exponential_model(np.arange(table_russia.new_cases.size),*popt)"
   ]
  },
  {
   "cell_type": "code",
   "execution_count": 226,
   "metadata": {},
   "outputs": [
    {
     "data": {
      "image/png": "[encoded data removed]",
      "text/plain": [
       "<Figure size 432x288 with 1 Axes>"
      ]
     },
     "metadata": {
      "needs_background": "light"
     },
     "output_type": "display_data"
    }
   ],
   "source": [
    "msg = (f'The number of infected people\\nas of 28.05.2020\\naccording to the models:\\n\\n'\n",
    "      f'Logistic_model -> {round(forecast_log.sum(), 0)}\\n'\n",
    "      f'Exponential model -> {round(forecast_exp.sum(), 0)}\\n')\n",
    "\n",
    "plt.close()\n",
    "plt.plot(table_russia.new_cases, ls='--', lw=2,label='real data', color='black')\n",
    "plt.plot(table_russia.index, forecast_log, lw=2, label='logistic_model', color='orange')\n",
    "plt.plot(table_russia.index, forecast_exp, ls='--', lw=2, label='exponential_model', color='red')\n",
    "#plt.plot(cut_data.index, current_fit_log, lw=2, label='fitting', color='green')\n",
    "plt.text('2020-05-06', 20000, '12/05/2020', rotation='vertical')\n",
    "plt.text('2020-01-01', 7000, msg, fontsize=12)\n",
    "plt.axvline('2020-05-12', color='black')\n",
    "plt.ylabel('Numbers')\n",
    "plt.xlabel('Date')\n",
    "plt.grid(True, ls='--', alpha=0.6)\n",
    "plt.legend()\n",
    "plt.savefig('covid_modeling.png', format='png', dpi=700)"
   ]
  },
  {
   "cell_type": "code",
   "execution_count": 211,
   "metadata": {},
   "outputs": [
    {
     "data": {
      "text/plain": [
       "431944.27001826756"
      ]
     },
     "execution_count": 211,
     "metadata": {},
     "output_type": "execute_result"
    }
   ],
   "source": [
    "forecast_log.sum()"
   ]
  },
  {
   "cell_type": "code",
   "execution_count": 176,
   "metadata": {},
   "outputs": [
    {
     "data": {
      "text/plain": [
       "607670.479716257"
      ]
     },
     "execution_count": 176,
     "metadata": {},
     "output_type": "execute_result"
    }
   ],
   "source": [
    "sum(forecast_exp)"
   ]
  },
  {
   "cell_type": "markdown",
   "metadata": {},
   "source": [
    "## Расчет для Италии"
   ]
  },
  {
   "cell_type": "code",
   "execution_count": 184,
   "metadata": {},
   "outputs": [],
   "source": [
    "table_italia = table[table['location'] == 'Italy'].reset_index(drop=True)\n",
    "table_italia['Time_series'] = pd.to_datetime(\n",
    "    table_italia['date'], format='%Y-%m-%d', errors='ignore')\n",
    "table_italia = table_italia.set_index('Time_series')"
   ]
  },
  {
   "cell_type": "code",
   "execution_count": 185,
   "metadata": {},
   "outputs": [
    {
     "data": {
      "text/plain": [
       "[<matplotlib.lines.Line2D at 0x7f20e6f13dd0>]"
      ]
     },
     "execution_count": 185,
     "metadata": {},
     "output_type": "execute_result"
    },
    {
     "data": {
      "image/png": "[encoded data removed]",
      "text/plain": [
       "<Figure size 432x288 with 1 Axes>"
      ]
     },
     "metadata": {
      "needs_background": "light"
     },
     "output_type": "display_data"
    }
   ],
   "source": [
    "plt.plot(table_italia.new_cases)"
   ]
  },
  {
   "cell_type": "code",
   "execution_count": null,
   "metadata": {},
   "outputs": [],
   "source": []
  }
 ],
 "metadata": {
  "kernelspec": {
   "display_name": "Python 3",
   "language": "python",
   "name": "python3"
  },
  "language_info": {
   "codemirror_mode": {
    "name": "ipython",
    "version": 3
   },
   "file_extension": ".py",
   "mimetype": "text/x-python",
   "name": "python",
   "nbconvert_exporter": "python",
   "pygments_lexer": "ipython3",
   "version": "3.7.4"
  }
 },
 "nbformat": 4,
 "nbformat_minor": 4
}
