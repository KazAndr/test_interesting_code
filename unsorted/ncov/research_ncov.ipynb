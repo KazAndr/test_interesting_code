{
 "cells": [
  {
   "cell_type": "code",
   "execution_count": 1,
   "metadata": {},
   "outputs": [],
   "source": [
    "import os\n",
    "import pickle\n",
    "import numpy as np\n",
    "import pandas as pd\n",
    "\n",
    "import matplotlib.pyplot as plt"
   ]
  },
  {
   "cell_type": "code",
   "execution_count": 29,
   "metadata": {},
   "outputs": [],
   "source": [
    "table = pd.read_excel(open('novel.xlsx', 'rb'),\n",
    "                      sheet_name='Лист1',\n",
    "                      header=None,\n",
    "                      names=[\n",
    "                          \"Province/State\",\n",
    "                          \"Country\",\n",
    "                          \"Date last updated\",\n",
    "                          \"Confirmed\",\n",
    "                          \"Recovered\",\n",
    "                          \"Deaths\",\n",
    "                      ]\n",
    "                     )"
   ]
  },
  {
   "cell_type": "code",
   "execution_count": 30,
   "metadata": {},
   "outputs": [],
   "source": [
    "table = table.fillna(0)"
   ]
  },
  {
   "cell_type": "code",
   "execution_count": 31,
   "metadata": {},
   "outputs": [],
   "source": [
    "list_table = table.values.tolist()"
   ]
  },
  {
   "cell_type": "code",
   "execution_count": 32,
   "metadata": {},
   "outputs": [],
   "source": [
    "with open('novel_ncov.pickle', 'wb') as file:\n",
    "    pickle.dump(list_table, file)"
   ]
  },
  {
   "cell_type": "code",
   "execution_count": 33,
   "metadata": {},
   "outputs": [],
   "source": [
    "with open('novel_ncov.pickle', 'rb') as file:\n",
    "    list_table = pickle.load(file)"
   ]
  },
  {
   "cell_type": "code",
   "execution_count": 34,
   "metadata": {},
   "outputs": [
    {
     "data": {
      "text/plain": [
       "['Province/State',\n",
       " 'Country',\n",
       " 'Date last updated',\n",
       " 'Confirmed',\n",
       " 'Recovered',\n",
       " 'Deaths']"
      ]
     },
     "execution_count": 34,
     "metadata": {},
     "output_type": "execute_result"
    }
   ],
   "source": [
    "list_table[0]"
   ]
  },
  {
   "cell_type": "code",
   "execution_count": 35,
   "metadata": {},
   "outputs": [],
   "source": [
    "PROVINCE = 0\n",
    "COUNTRY = 1\n",
    "DATE_UPDATE = 2\n",
    "CONFIRMED = 3\n",
    "RECOVERED = 4\n",
    "DEATHS = 5"
   ]
  },
  {
   "cell_type": "code",
   "execution_count": 36,
   "metadata": {},
   "outputs": [
    {
     "data": {
      "text/plain": [
       "True"
      ]
     },
     "execution_count": 36,
     "metadata": {},
     "output_type": "execute_result"
    }
   ],
   "source": [
    "'2020-02-' in str(list_table[-1][DATE_UPDATE])"
   ]
  },
  {
   "cell_type": "code",
   "execution_count": 37,
   "metadata": {},
   "outputs": [],
   "source": [
    "set_country = set()\n",
    "for row in list_table:\n",
    "    if '2020-02-02' in str(row[DATE_UPDATE]):\n",
    "        set_country.add(row[COUNTRY])"
   ]
  },
  {
   "cell_type": "code",
   "execution_count": 38,
   "metadata": {},
   "outputs": [
    {
     "data": {
      "text/plain": [
       "{'Australia',\n",
       " 'Germany',\n",
       " 'Hong Kong',\n",
       " 'India',\n",
       " 'Macau',\n",
       " 'Mainland China',\n",
       " 'Philippines',\n",
       " 'Singapore',\n",
       " 'South Korea',\n",
       " 'Thailand',\n",
       " 'US',\n",
       " 'United Arab Emirates'}"
      ]
     },
     "execution_count": 38,
     "metadata": {},
     "output_type": "execute_result"
    }
   ],
   "source": [
    "set_country"
   ]
  },
  {
   "cell_type": "code",
   "execution_count": 39,
   "metadata": {},
   "outputs": [],
   "source": [
    "last_day_2020feb = []\n",
    "for row in list_table:\n",
    "    if '2020-02-02' in str(row[DATE_UPDATE]):\n",
    "        last_day_2020feb.append(row)"
   ]
  },
  {
   "cell_type": "code",
   "execution_count": 40,
   "metadata": {},
   "outputs": [],
   "source": [
    "final_dict = dict.fromkeys(set_country, 0)\n",
    "for row in last_day_2020feb:\n",
    "    if row[COUNTRY] in final_dict:\n",
    "        final_dict[row[COUNTRY]] += row[CONFIRMED]"
   ]
  },
  {
   "cell_type": "code",
   "execution_count": 41,
   "metadata": {},
   "outputs": [
    {
     "data": {
      "text/plain": [
       "{'Singapore': 36,\n",
       " 'Hong Kong': 29,\n",
       " 'Germany': 10,\n",
       " 'Macau': 8,\n",
       " 'Australia': 4,\n",
       " 'United Arab Emirates': 5,\n",
       " 'Philippines': 4,\n",
       " 'South Korea': 30,\n",
       " 'India': 2,\n",
       " 'Thailand': 19,\n",
       " 'Mainland China': 20985,\n",
       " 'US': 2}"
      ]
     },
     "execution_count": 41,
     "metadata": {},
     "output_type": "execute_result"
    }
   ],
   "source": [
    "final_dict"
   ]
  },
  {
   "cell_type": "code",
   "execution_count": 42,
   "metadata": {},
   "outputs": [
    {
     "data": {
      "image/png": "[encoded data removed]",
      "text/plain": [
       "<Figure size 432x288 with 1 Axes>"
      ]
     },
     "metadata": {
      "needs_background": "light"
     },
     "output_type": "display_data"
    }
   ],
   "source": [
    "plt.close()\n",
    "plt.bar(final_dict.keys(), final_dict.values())\n",
    "plt.yscale('log')\n",
    "plt.xticks(range(len(final_dict.values())), final_dict.keys(), rotation='vertical')\n",
    "plt.show()"
   ]
  },
  {
   "cell_type": "code",
   "execution_count": 43,
   "metadata": {},
   "outputs": [],
   "source": [
    "days_china = {}\n",
    "for row in list_table[1:]:\n",
    "    if 'China' in row[COUNTRY]:\n",
    "        if str(row[DATE_UPDATE])[:10] in days_china:\n",
    "            days_china[str(row[DATE_UPDATE])[:10]] += row[CONFIRMED]\n",
    "        else:\n",
    "            days_china[str(row[DATE_UPDATE])[:10]] = row[CONFIRMED]"
   ]
  },
  {
   "cell_type": "code",
   "execution_count": 44,
   "metadata": {},
   "outputs": [
    {
     "data": {
      "image/png": "[encoded data removed]",
      "text/plain": [
       "<Figure size 432x288 with 1 Axes>"
      ]
     },
     "metadata": {
      "needs_background": "light"
     },
     "output_type": "display_data"
    }
   ],
   "source": [
    "plt.close()\n",
    "plt.plot(list(days_china.values()))\n",
    "#plt.yscale('log')\n",
    "plt.xticks(range(len(days_china.values())), days_china.keys(), rotation='vertical')\n",
    "plt.show()"
   ]
  },
  {
   "cell_type": "code",
   "execution_count": 45,
   "metadata": {},
   "outputs": [
    {
     "data": {
      "text/plain": [
       "{'2020-01-21': 327,\n",
       " '2020-01-22': 549,\n",
       " '2020-01-23': 639,\n",
       " '2020-01-24': 865,\n",
       " '2020-01-25': 3299,\n",
       " '2020-01-26': 2062,\n",
       " '2020-01-28': 16074,\n",
       " '2020-01-29': 7678,\n",
       " '2020-01-30': 9658,\n",
       " '2020-01-31': 11221,\n",
       " '2020-02-01': 9600,\n",
       " '2020-02-02': 20985}"
      ]
     },
     "execution_count": 45,
     "metadata": {},
     "output_type": "execute_result"
    }
   ],
   "source": [
    "days_china"
   ]
  },
  {
   "cell_type": "code",
   "execution_count": null,
   "metadata": {},
   "outputs": [],
   "source": []
  }
 ],
 "metadata": {
  "kernelspec": {
   "display_name": "Python 3",
   "language": "python",
   "name": "python3"
  },
  "language_info": {
   "codemirror_mode": {
    "name": "ipython",
    "version": 3
   },
   "file_extension": ".py",
   "mimetype": "text/x-python",
   "name": "python",
   "nbconvert_exporter": "python",
   "pygments_lexer": "ipython3",
   "version": "3.7.4"
  }
 },
 "nbformat": 4,
 "nbformat_minor": 2
}
