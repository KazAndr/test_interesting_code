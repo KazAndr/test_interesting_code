{
 "cells": [
  {
   "cell_type": "code",
   "execution_count": 73,
   "metadata": {},
   "outputs": [],
   "source": [
    "import os\n",
    "from collections import defaultdict"
   ]
  },
  {
   "cell_type": "code",
   "execution_count": 69,
   "metadata": {},
   "outputs": [
    {
     "name": "stdout",
     "output_type": "stream",
     "text": [
      "Введите число отсечки для групп: 20\n"
     ]
    }
   ],
   "source": [
    "cut_level = int(input('Введите число отсечки для групп: '))"
   ]
  },
  {
   "cell_type": "code",
   "execution_count": 70,
   "metadata": {},
   "outputs": [
    {
     "data": {
      "text/plain": [
       "'1_phage-MCP-nr-results-e0001-c80-id20_all_seqs.fasta'"
      ]
     },
     "execution_count": 70,
     "metadata": {},
     "output_type": "execute_result"
    }
   ],
   "source": [
    "path"
   ]
  },
  {
   "cell_type": "code",
   "execution_count": 71,
   "metadata": {},
   "outputs": [],
   "source": [
    "with open('config.py', 'r') as conf:\n",
    "    inform_line = conf.readline()\n",
    "    paths = conf.readlines()"
   ]
  },
  {
   "cell_type": "code",
   "execution_count": 72,
   "metadata": {},
   "outputs": [],
   "source": [
    "for path in paths:\n",
    "    \n",
    "    path = path.rstrip('\\n')\n",
    "    with open(path, 'r') as file:\n",
    "        content = file.readlines()\n",
    "        \n",
    "    cont_dict = defaultdict(type([]))\n",
    "    for i in content:\n",
    "        if len(i) <= 15: # Обратить особое внимание на то, что для других файлов это число может быть иным\n",
    "            name_group = i\n",
    "            cont_dict[name_group]\n",
    "        else:\n",
    "            cont_dict[name_group].append(i)\n",
    "    \n",
    "    group_number = 1    \n",
    "    for key in cont_dict.keys():\n",
    "        if len(cont_dict[key])/2 >= cut_level:\n",
    "            # Проверяем существует ли директория и если нет, то создаем\n",
    "            res_dir = f'result_from_{path}'\n",
    "            if not os.path.isdir(res_dir):\n",
    "                os.mkdir(res_dir)\n",
    "            \n",
    "            with open(\n",
    "                f'{res_dir}/group_{group_number}_from_{os.path.basename(path)}.fasta', 'w'\n",
    "            ) as res:\n",
    "                res.write(key)\n",
    "                for item in cont_dict[key]:\n",
    "                    res.write(item)\n",
    "            group_number += 1"
   ]
  },
  {
   "cell_type": "code",
   "execution_count": 68,
   "metadata": {},
   "outputs": [
    {
     "data": {
      "text/plain": [
       "1"
      ]
     },
     "execution_count": 68,
     "metadata": {},
     "output_type": "execute_result"
    }
   ],
   "source": [
    "cut_level"
   ]
  },
  {
   "cell_type": "code",
   "execution_count": 18,
   "metadata": {},
   "outputs": [],
   "source": []
  },
  {
   "cell_type": "code",
   "execution_count": 30,
   "metadata": {},
   "outputs": [],
   "source": []
  },
  {
   "cell_type": "code",
   "execution_count": 31,
   "metadata": {},
   "outputs": [],
   "source": []
  },
  {
   "cell_type": "code",
   "execution_count": null,
   "metadata": {},
   "outputs": [],
   "source": []
  }
 ],
 "metadata": {
  "kernelspec": {
   "display_name": "Python 3",
   "language": "python",
   "name": "python3"
  },
  "language_info": {
   "codemirror_mode": {
    "name": "ipython",
    "version": 3
   },
   "file_extension": ".py",
   "mimetype": "text/x-python",
   "name": "python",
   "nbconvert_exporter": "python",
   "pygments_lexer": "ipython3",
   "version": "3.7.4"
  }
 },
 "nbformat": 4,
 "nbformat_minor": 4
}
